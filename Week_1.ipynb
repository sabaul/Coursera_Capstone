{
  "nbformat": 4,
  "nbformat_minor": 0,
  "metadata": {
    "colab": {
      "name": "Week_1.ipynb",
      "provenance": [],
      "collapsed_sections": []
    },
    "kernelspec": {
      "name": "python3",
      "display_name": "Python 3"
    }
  },
  "cells": [
    {
      "cell_type": "markdown",
      "metadata": {
        "id": "zoFXoZQU4NWn",
        "colab_type": "text"
      },
      "source": [
        "## **IBM Data Science Capstone**"
      ]
    },
    {
      "cell_type": "markdown",
      "metadata": {
        "id": "rdfcRfkb4SMI",
        "colab_type": "text"
      },
      "source": [
        "- This notebook will be used to create a Accident Severity Model for the IBM Data Science Capstone Project.\n",
        "\n",
        "- Supervised Learning will be used for the prediction of Accident Severity such as Random Forest Classifier, Logistic Regression and XGBoost. (These are just tentative models that are listed here, there may be more when Machine Learning model is built.)\n",
        "\n",
        "- The dataset that I will be using for the project can be downloaded from kaggle:\n",
        "https://www.kaggle.com/tsiaras/uk-road-safety-accidents-and-vehicles"
      ]
    },
    {
      "cell_type": "code",
      "metadata": {
        "id": "kA0e_vPv4SPp",
        "colab_type": "code",
        "colab": {}
      },
      "source": [
        "import pandas as pd\n",
        "import numpy as np"
      ],
      "execution_count": 1,
      "outputs": []
    },
    {
      "cell_type": "code",
      "metadata": {
        "id": "spfyxAFe4uND",
        "colab_type": "code",
        "colab": {
          "base_uri": "https://localhost:8080/",
          "height": 34
        },
        "outputId": "fff5ac21-5814-4eb7-d7e2-5dd48c4525de"
      },
      "source": [
        "print('Hello Capstone Project Course!')"
      ],
      "execution_count": 2,
      "outputs": [
        {
          "output_type": "stream",
          "text": [
            "Hello Capstone Project Course!\n"
          ],
          "name": "stdout"
        }
      ]
    },
    {
      "cell_type": "code",
      "metadata": {
        "id": "1wDRD7DT4xk0",
        "colab_type": "code",
        "colab": {}
      },
      "source": [
        ""
      ],
      "execution_count": null,
      "outputs": []
    }
  ]
}